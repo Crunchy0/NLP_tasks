{
 "cells": [
  {
   "cell_type": "markdown",
   "id": "8915dc58",
   "metadata": {},
   "source": [
    "# Задание 1: лемматизация текста"
   ]
  },
  {
   "cell_type": "markdown",
   "id": "337cb7fa",
   "metadata": {},
   "source": [
    "## 1) Пути к файлам словаря и текста, шаблоны парсера"
   ]
  },
  {
   "cell_type": "code",
   "execution_count": 1,
   "id": "91b9501a",
   "metadata": {},
   "outputs": [],
   "source": [
    "dictInputPath = '../dict.opcorpora.txt'\n",
    "textInputPath = './sampletext.txt'"
   ]
  },
  {
   "cell_type": "code",
   "execution_count": 2,
   "id": "3364c20d",
   "metadata": {},
   "outputs": [],
   "source": [
    "wordTemplate = r'(([А-Яа-яЁё][a-яё]*)+(-[А-Яа-яЁё][а-яё]*)*)+'\n",
    "groupNumberTemplate = r'^[\\d]+$'"
   ]
  },
  {
   "cell_type": "markdown",
   "id": "ec9d9c3c",
   "metadata": {},
   "source": [
    "## 2) Импорт библиотек"
   ]
  },
  {
   "cell_type": "code",
   "execution_count": 3,
   "id": "78eeeaff",
   "metadata": {},
   "outputs": [],
   "source": [
    "import re"
   ]
  },
  {
   "cell_type": "markdown",
   "id": "4646b9ff",
   "metadata": {},
   "source": [
    "## 3) Объявление классов: теги, словарь; инициализация словаря"
   ]
  },
  {
   "cell_type": "code",
   "execution_count": 4,
   "id": "18000ad0",
   "metadata": {},
   "outputs": [],
   "source": [
    "class Tags:\n",
    "    def __init__(self, primaryForm: str, partOfSpeech: str):\n",
    "        self.primaryForm = primaryForm\n",
    "        self.partOfSpeech = partOfSpeech\n",
    "    \n",
    "    def __str__(self):\n",
    "        return f'[{self.primaryForm}={self.partOfSpeech}]'\n",
    "    \n",
    "    def __eq__(self, other):\n",
    "        if self.primaryForm != other.primaryForm:\n",
    "            return False\n",
    "        return self.partOfSpeech == other.partOfSpeech"
   ]
  },
  {
   "cell_type": "markdown",
   "id": "16bc2a47",
   "metadata": {},
   "source": [
    "<b>Замечание:</b> Словарь приравнивает букву \"ё\" к \"е\", но во избежание коллизий хранит для омографов списки тегов (обходной путь для случая бесконтекстной лемматизации)."
   ]
  },
  {
   "cell_type": "code",
   "execution_count": 5,
   "id": "3089ddcd",
   "metadata": {},
   "outputs": [],
   "source": [
    "class WordTagsDictionary:\n",
    "    def __init__(self, txtPath: str = None):\n",
    "        self.dictionary = dict()\n",
    "        self.txtPath = txtPath\n",
    "        if(self.txtPath != None):\n",
    "            self.parseTxt()\n",
    "    \n",
    "    def _enterWord(self, word: str, primaryForm: str, tags):\n",
    "        if word.find('Ё'):\n",
    "            word = word.replace('Ё', 'Е')\n",
    "        if not (word in self.dictionary.keys()):\n",
    "            self.dictionary[word] = []\n",
    "        \n",
    "        newTags = Tags(primaryForm, tags[0])\n",
    "        doAddTags = True\n",
    "        \n",
    "        for tag in self.dictionary[word]:\n",
    "            if newTags == tag:\n",
    "                doAddTags = False\n",
    "                break\n",
    "        \n",
    "        if doAddTags:\n",
    "            self.dictionary[word].append(newTags)\n",
    "    \n",
    "    \n",
    "    def parseTxt(self):\n",
    "        with open(self.txtPath, 'r', encoding='utf-8') as file:\n",
    "            primaryForm = ''\n",
    "            wordGroup = 0\n",
    "            newWordGroup = 0\n",
    "            \n",
    "            for line in file:\n",
    "                if line == '\\n':\n",
    "                    continue\n",
    "                if re.search(groupNumberTemplate, line):\n",
    "                    newWordGroup = int(line)\n",
    "                else:\n",
    "                    word, tagsJoined = line.split('\\t')\n",
    "                    tags = re.split(',| |\\n', tagsJoined)\n",
    "                    if wordGroup != newWordGroup:\n",
    "                        wordGroup = newWordGroup\n",
    "                        primaryForm = word\n",
    "                    self._enterWord(word, primaryForm, tags)\n",
    "                    \n",
    "            file.close()\n",
    "    \n",
    "    def getTags(self, word: str):\n",
    "        key = word.upper().replace('Ё', 'Е')\n",
    "        if(key in self.dictionary.keys()):\n",
    "            return self.dictionary[key]\n",
    "        return None"
   ]
  },
  {
   "cell_type": "code",
   "execution_count": 6,
   "id": "ced1aaf3",
   "metadata": {
    "scrolled": true
   },
   "outputs": [],
   "source": [
    "dictionary = WordTagsDictionary(dictInputPath)"
   ]
  },
  {
   "cell_type": "markdown",
   "id": "80cd6028",
   "metadata": {},
   "source": [
    "## 4) Предобработка входных данных"
   ]
  },
  {
   "cell_type": "code",
   "execution_count": 7,
   "id": "9f6d0aed",
   "metadata": {},
   "outputs": [],
   "source": [
    "def textToWords(text: str):\n",
    "    wordList = []\n",
    "    result = re.findall(wordTemplate, text)\n",
    "    for word in result:\n",
    "        wordList.append(word[0])\n",
    "    return wordList"
   ]
  },
  {
   "cell_type": "markdown",
   "id": "6d392d59",
   "metadata": {},
   "source": [
    "## 5) Лемматизация и разметка тегами"
   ]
  },
  {
   "cell_type": "code",
   "execution_count": 8,
   "id": "9ac5eafe",
   "metadata": {
    "scrolled": false
   },
   "outputs": [
    {
     "name": "stdout",
     "output_type": "stream",
     "text": [
      "В туннеле становилось всё холоднее: мы с Мельником поднимались всё ближе и ближе к поверхности. Через минуту мы должны были оказаться наверху, наедине с воющим ветром, наедине с чудовищами, наедине с самой судьбой… я был почти у цели.\n",
      "\n",
      "\n",
      "В[В=PREP][В=NOUN] туннеле[ТУННЕЛЬ=NOUN] становилось[СТАНОВЛЮСЬ=VERB] всё[ВЕСЬ=ADJF][ВСЁ=PRCL] холоднее[ХОЛОДНЕЕ=COMP] мы[МЫ=NPRO] с[С=PREP][С=NOUN][С=PRCL] Мельником[МЕЛЬНИК=NOUN] поднимались[ПОДНИМАЮСЬ=VERB] всё[ВЕСЬ=ADJF][ВСЁ=PRCL] ближе[БЛИЖЕ=COMP] и[И=CONJ][И=INTJ][И=PRCL][И=NOUN] ближе[БЛИЖЕ=COMP] к[К=PREP][КАК=CONJ][К=NOUN] поверхности[ПОВЕРХНОСТЬ=NOUN] Через[ЧЕРЕЗ=PREP] минуту[МИНУТА=NOUN] мы[МЫ=NPRO] должны[ДОЛЖЕН=ADJS] были[БЫЛЬ=NOUN][ЕСТЬ=VERB] оказаться[ОКАЗАТЬСЯ=INFN] наверху[НАВЕРХУ=ADVB] наедине[НАЕДИНЕ=ADVB] с[С=PREP][С=NOUN][С=PRCL] воющим[ВОЮЩИЙ=PRTF] ветром[ВЕТЕР=NOUN] наедине[НАЕДИНЕ=ADVB] с[С=PREP][С=NOUN][С=PRCL] чудовищами[ЧУДОВИЩЕ=NOUN] наедине[НАЕДИНЕ=ADVB] с[С=PREP][С=NOUN][С=PRCL] самой[САМ=ADJF][САМЫЙ=ADJF] судьбой[СУДЬБА=NOUN] я[Я=NPRO][Я=NOUN] был[ЕСТЬ=VERB] почти[ПОЧЁЛ=VERB][ПОЧТИ=ADVB][ПОЧТИЛ=VERB][ПОЧТИ=PRCL] у[У=PREP][У=INTJ][У=NOUN] цели[ЦЕЛЮ=VERB][ЦЕЛЬ=NOUN] \n",
      "\n",
      "Мне известно лишь одно, теперь я знаю, что ждало человека, когда он прошел между двумя ослепительно белыми колоннами. Его ждал город. Город под выбеленным небом, которое венчало раскаленное солнце. Город с белыми домами и белыми мостовыми. Город, в котором не было ни единой души. Город с бесконечными соляными улицами, которые и не думали кончаться. Слепящий белый город, по которому эхом разносятся щелчки ботинок.\n",
      "\n",
      "Мне[Я=NPRO] известно[ИЗВЕСТНО=CONJ][ИЗВЕСТНО=PRED][ИЗВЕСТЕН=ADJS] лишь[ЛИШЬ=CONJ][ЛИШЬ=PRCL] одно[ОДИН=ADJF] теперь[ТЕПЕРЬ=ADVB] я[Я=NPRO][Я=NOUN] знаю[ЗНАЮ=VERB] что[ЧТО=CONJ][ЧТО=NPRO][ЧТО=ADVB][ЧТО=PRCL] ждало[ЖДУ=VERB] человека[ЧЕЛОВЕК=NOUN] когда[КОГДА=CONJ][КОГДА=ADVB] он[ОН=NPRO] прошел[ПРОШЁЛ=VERB] между[МЕЖДУ=PREP] двумя[ДВА=NUMR] ослепительно[ОСЛЕПИТЕЛЬНО=ADVB][ОСЛЕПИТЕЛЕН=ADJS] белыми[БЕЛЫЕ=NOUN][БЕЛЫЙ=ADJF] колоннами[КОЛОННА=NOUN] Его[ЕГО=ADJF][ОН=NPRO][ОНО=NPRO] ждал[ЖДУ=VERB] город[ГОРОД=NOUN] Город[ГОРОД=NOUN] под[ПОД=PREP][ПОД=NOUN] выбеленным[ВЫБЕЛЕННЫЙ=PRTF] небом[НЕБО=NOUN][НЁБО=NOUN] которое[КОТОРЫЙ=ADJF] венчало[ВЕНЧАЛ=VERB][ВЕНЧАЮ=VERB] раскаленное[РАСКАЛЁННЫЙ=PRTF] солнце[СОЛНЦЕ=NOUN] Город[ГОРОД=NOUN] с[С=PREP][С=NOUN][С=PRCL] белыми[БЕЛЫЕ=NOUN][БЕЛЫЙ=ADJF] домами[ДОМ=NOUN] и[И=CONJ][И=INTJ][И=PRCL][И=NOUN] белыми[БЕЛЫЕ=NOUN][БЕЛЫЙ=ADJF] мостовыми[МОСТОВАЯ=NOUN][МОСТОВОЙ=ADJF][МОСТОВЫЙ=ADJF] Город[ГОРОД=NOUN] в[В=PREP][В=NOUN] котором[КОТОР=NOUN][КОТОРЫЙ=ADJF] не[НЕ=PRCL] было[БЫЛО=PRCL][ЕСТЬ=VERB] ни[НИ=CONJ][НИ=PRCL] единой[ЕДИНЫЙ=ADJF] души[ДУШ=NOUN][ДУША=NOUN][ДУШУ=VERB] Город[ГОРОД=NOUN] с[С=PREP][С=NOUN][С=PRCL] бесконечными[БЕСКОНЕЧНЫЙ=ADJF] соляными[СОЛЯНОЙ=ADJF][СОЛЯНЫЙ=ADJF] улицами[УЛИЦА=NOUN] которые[КОТОРЫЙ=ADJF] и[И=CONJ][И=INTJ][И=PRCL][И=NOUN] не[НЕ=PRCL] думали[ДУМАЮ=VERB] кончаться[КОНЧАТЬСЯ=INFN] Слепящий[СЛЕПЯЩИЙ=PRTF] белый[БЕЛЫЙ=ADJF] город[ГОРОД=NOUN] по[ПО=PREP][ПО=NOUN] которому[КОТОРЫЙ=ADJF] эхом[ЭХО=NOUN] разносятся[РАЗНОШУСЬ=VERB][РАЗНОСИЛСЯ=VERB] щелчки[ЩЕЛЧОК=NOUN] ботинок[БОТИНОК=NOUN] \n",
      "\n"
     ]
    }
   ],
   "source": [
    "with open(textInputPath, 'r', encoding='utf-8') as file:\n",
    "    for line in file:\n",
    "        words = textToWords(line)\n",
    "        print(line, end='\\n\\n')\n",
    "        for word in words:\n",
    "            print(word, end='')\n",
    "            for tag in dictionary.getTags(word):\n",
    "                print(tag, end='')\n",
    "            print('', end=' ')\n",
    "        print('\\n')"
   ]
  }
 ],
 "metadata": {
  "kernelspec": {
   "display_name": "Python 3 (ipykernel)",
   "language": "python",
   "name": "python3"
  },
  "language_info": {
   "codemirror_mode": {
    "name": "ipython",
    "version": 3
   },
   "file_extension": ".py",
   "mimetype": "text/x-python",
   "name": "python",
   "nbconvert_exporter": "python",
   "pygments_lexer": "ipython3",
   "version": "3.9.10"
  }
 },
 "nbformat": 4,
 "nbformat_minor": 5
}
