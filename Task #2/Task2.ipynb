{
 "cells": [
  {
   "cell_type": "markdown",
   "id": "4b17b6cb",
   "metadata": {},
   "source": [
    "# Задание 2. Фестский диск"
   ]
  },
  {
   "cell_type": "markdown",
   "id": "d5a010dc",
   "metadata": {},
   "source": [
    "## 1) Импорт библиотек"
   ]
  },
  {
   "cell_type": "code",
   "execution_count": 1,
   "id": "7d12bb0e",
   "metadata": {},
   "outputs": [],
   "source": [
    "import numpy as np\n",
    "from itertools import chain"
   ]
  },
  {
   "cell_type": "markdown",
   "id": "4c7aa450",
   "metadata": {},
   "source": [
    "## 2) Входные данные\n",
    "\n",
    "Исходный текст Фестского диска представлен ниже в формате\n",
    "\n",
    "- $char := n \\in \\mathbb{N}$\n",
    "- $word := (char),word$\n",
    "- $sentence := (word),sentence$\n",
    "- $text := (sentence),text$\n",
    "\n",
    "Каждое слово - список символов, предложение - список слов, а текст - список предложений."
   ]
  },
  {
   "cell_type": "code",
   "execution_count": 2,
   "id": "0f9f7aff",
   "metadata": {},
   "outputs": [],
   "source": [
    "a_side = [\n",
    "    [[2,12,13,1,18],],\n",
    "    [[24,40,12], [29,45,7],],\n",
    "    [[29,29,34], [2,12,4,40,33], [27,45,7,12], [27,44,8], [2,12,6,18,255], [31,26,35], [2,12,41,19,35], [1,41,40,7] ,[2,12,32,23,38],],\n",
    "    [[39,11], [2,27,25,10,23,18], [28,1],],\n",
    "    [[2,12,31,26],],\n",
    "    [[2,12,27,27,35,37,21] ,[33,23] ,[2,12,31,26],],\n",
    "    [[2,27,25,10,23,18], [28,1],],\n",
    "    [[2,12,31,26],],\n",
    "    [[2,12,27,14,32,18,27], [6,18,17,19], [31,26,12], [2,12,13,1], [23,19,35],],\n",
    "    [[10,3,38], [2,12,27,27,35,37,21], [13,1], [10,3,38],],\n",
    "]\n",
    "\n",
    "b_side = [\n",
    "    [[2,12,22,40,7], [27,45,7,35], [2,37,23,5],],\n",
    "    [[22,25,27], [33,24,20,12], [16,23,18,43],],\n",
    "    [[13,1,39,33], [15,7,13,1,18], [22,37,42,25], [7,24,40,35], [2,26,36,40], [27,25,38,1], [29,24,24,20,35], [16,14,18], [29,33,1], [6,35,32,39,33], [2,9,27,1], [29,36,7,8],],\n",
    "    [[29,8,13], [29,45,7],],\n",
    "    [[22,29,36,7,8],],\n",
    "    [[27,34,23,25], [7,18,35], [7,45,7],],\n",
    "    [[7,23,18,24], [22,29,36,7,8],],\n",
    "    [[9,30,39,18,7], [2,6,35,23,7], [29,34,23,25], [45,7],],\n",
    "]"
   ]
  },
  {
   "cell_type": "markdown",
   "id": "7f965a01",
   "metadata": {},
   "source": [
    "## 3) Расчет средних значений длины слова и предложения в языке:"
   ]
  },
  {
   "cell_type": "code",
   "execution_count": 3,
   "id": "6a4fcf7b",
   "metadata": {},
   "outputs": [],
   "source": [
    "a_sent_len_mean = np.mean([len(sentence) for sentence in a_side])\n",
    "b_sent_len_mean = np.mean([len(sentence) for sentence in b_side])\n",
    "sent_len_mean = int(np.round(.5 * (a_sent_len_mean + b_sent_len_mean)))\n",
    "\n",
    "a_word_len_mean = np.mean([np.mean([len(word) for word in sentence]) for sentence in a_side])\n",
    "b_word_len_mean = np.mean([np.mean([len(word) for word in sentence]) for sentence in b_side])\n",
    "word_len_mean = int(np.round(.5 * (a_word_len_mean + b_word_len_mean)))"
   ]
  },
  {
   "cell_type": "code",
   "execution_count": 4,
   "id": "8623466e",
   "metadata": {},
   "outputs": [
    {
     "name": "stdout",
     "output_type": "stream",
     "text": [
      "3\n",
      "4\n"
     ]
    }
   ],
   "source": [
    "print(sent_len_mean)\n",
    "print(word_len_mean)"
   ]
  },
  {
   "cell_type": "markdown",
   "id": "7f90d998",
   "metadata": {},
   "source": [
    "## 4) N-граммная энтропия\n",
    "\n",
    "Введем функцию\n",
    "\n",
    "$\\Large\\sum\\limits_{i} p(i) log_2p(i)$\n",
    "\n",
    "для вычисления $N$-граммной энтропии:"
   ]
  },
  {
   "cell_type": "code",
   "execution_count": 5,
   "id": "49238f9f",
   "metadata": {},
   "outputs": [],
   "source": [
    "def n_entropy(characters, n):\n",
    "    ngrams = [tuple(characters[i:i+n]) for i in range(len(characters)-n)]\n",
    "    \n",
    "    counts = dict()\n",
    "    for ng in ngrams:\n",
    "        if not (ng in counts.keys()):\n",
    "            counts[ng] = 0\n",
    "        counts[ng] += 1\n",
    "    \n",
    "    ng_amounts = np.array(list(counts.values()))\n",
    "    total_ng = int(np.sum(ng_amounts))\n",
    "    ng_distr = ng_amounts/total_ng\n",
    "    \n",
    "    return -np.dot(np.log2(ng_distr), ng_distr)"
   ]
  },
  {
   "cell_type": "markdown",
   "id": "b1d15570",
   "metadata": {},
   "source": [
    "Далее текст с обеих сторон диска конкатенируется в непрерывную цепочку символов.\n",
    "После этого выполняется поиск предельного значения энтропии:\n",
    "$\\lim_{N\\rightarrow \\infty} F_N$"
   ]
  },
  {
   "cell_type": "code",
   "execution_count": 6,
   "id": "69f9c6a4",
   "metadata": {
    "scrolled": false
   },
   "outputs": [
    {
     "name": "stdout",
     "output_type": "stream",
     "text": [
      "Entropy (N =  1): 5.0111\n",
      "Entropy (N =  2): 2.0699\n",
      "Entropy (N =  3): 0.5080\n",
      "Entropy (N =  4): 0.0946\n",
      "Entropy (N =  5): 0.0585\n",
      "Entropy (N =  6): 0.0388\n",
      "Entropy (N =  7): 0.0105\n",
      "Entropy (N =  8): 0.0106\n",
      "Entropy (N =  9): 0.0021\n",
      "Entropy (N = 10): 0.0022\n",
      "Entropy (N = 11): 0.0022\n",
      "Entropy (N = 12): 0.0022\n",
      "Entropy (N = 13): 0.0023\n",
      "Entropy (N = 14): 0.0023\n",
      "Entropy (N = 15): 0.0024\n",
      "Entropy (N = 16): 0.0024\n",
      "Entropy (N = 17): -0.0064\n",
      "Entropy (N = 18): -0.0064\n",
      "Entropy (N = 19): -0.0065\n",
      "Entropy (N = 20): -0.0065\n",
      "Entropy (N = 21): -0.0065\n",
      "Entropy (N = 22): -0.0065\n",
      "Entropy (N = 23): -0.0066\n",
      "Entropy (N = 24): -0.0066\n"
     ]
    }
   ],
   "source": [
    "flat_a = list(chain.from_iterable(a_side))\n",
    "flat_a = list(chain.from_iterable(flat_a))\n",
    "\n",
    "flat_b = list(chain.from_iterable(b_side))\n",
    "flat_b = list(chain.from_iterable(flat_b))\n",
    "\n",
    "flat_text = flat_a + flat_b\n",
    "\n",
    "for i in range(1, 25):\n",
    "    print('Entropy (N = {:2d}): {:.4f}'.format(i, n_entropy(flat_text, i) - n_entropy(flat_text, i - 1)))"
   ]
  },
  {
   "cell_type": "markdown",
   "id": "472a654d",
   "metadata": {},
   "source": [
    "Энтропия быстро убывает и становится незначительной при $N \\in [4,\\infty)$"
   ]
  },
  {
   "cell_type": "markdown",
   "id": "4134328f",
   "metadata": {},
   "source": [
    "## 5) Вычисление расстояния единственности шифра"
   ]
  },
  {
   "cell_type": "code",
   "execution_count": 7,
   "id": "dd415694",
   "metadata": {},
   "outputs": [
    {
     "name": "stdout",
     "output_type": "stream",
     "text": [
      "H = 0.0946\n",
      "R = 5.5236\n",
      "r = 0.5080\n",
      "D = (R - r) = 5.0155\n",
      "U = H/D = 0.0189\n"
     ]
    }
   ],
   "source": [
    "# H(k) - энтропия ключа, считается от средней длины слова\n",
    "key_ent = n_entropy(flat_text, word_len_mean) - n_entropy(flat_text, word_len_mean - 1)\n",
    "\n",
    "# R(M) - абсолютная энтропия\n",
    "absolute_ent = np.log2(len(set(flat_text)))\n",
    "# r(s) - фактическая энтропия, считается от средней длины предложения\n",
    "real_ent = n_entropy(flat_text, sent_len_mean) - n_entropy(flat_text, sent_len_mean - 1)\n",
    "\n",
    "# D = (R(M) - r(s)) - избыточность\n",
    "redundancy = absolute_ent - real_ent\n",
    "\n",
    "# U = H(k)/D - расстояние единственности\n",
    "uniq_dist = key_ent/redundancy\n",
    "\n",
    "print('H = {:.4f}'.format(key_ent))\n",
    "print('R = {:.4f}'.format(absolute_ent))\n",
    "print('r = {:.4f}'.format(real_ent))\n",
    "print('D = (R - r) = {:.4f}'.format(redundancy))\n",
    "print('U = H/D = {:.4f}'.format(uniq_dist))"
   ]
  },
  {
   "cell_type": "markdown",
   "id": "8026a1a3",
   "metadata": {},
   "source": [
    "## 6) Вывод"
   ]
  },
  {
   "cell_type": "markdown",
   "id": "9a4474ab",
   "metadata": {},
   "source": [
    "Расстояние единственности в результате расчетов получилось практически нулевым, т.е. для восстановления ключа нужен максимум один символ зашифрованного сообщения.\n",
    "\n",
    "Однако неизвестен фактический размер алфавита и синтаксис языка - вполне возможно, что косые черты не являются знаками пунктуации, или что предложения, записанные на дисках, короче, чем среднее по размеру предложение в данном языке (ввиду того, что на диске мало места).\n",
    "\n",
    "Имея лишь один экземпляр с текстом на данном языке, невозможно делать предположения о сложности дешифрования."
   ]
  }
 ],
 "metadata": {
  "kernelspec": {
   "display_name": "Python 3 (ipykernel)",
   "language": "python",
   "name": "python3"
  },
  "language_info": {
   "codemirror_mode": {
    "name": "ipython",
    "version": 3
   },
   "file_extension": ".py",
   "mimetype": "text/x-python",
   "name": "python",
   "nbconvert_exporter": "python",
   "pygments_lexer": "ipython3",
   "version": "3.9.10"
  }
 },
 "nbformat": 4,
 "nbformat_minor": 5
}
